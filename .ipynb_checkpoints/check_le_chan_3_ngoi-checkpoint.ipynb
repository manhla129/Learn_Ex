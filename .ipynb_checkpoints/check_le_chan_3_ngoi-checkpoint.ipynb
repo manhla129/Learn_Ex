{
 "cells": [
  {
   "cell_type": "code",
   "execution_count": null,
   "id": "3a1d9340",
   "metadata": {},
   "outputs": [],
   "source": [
    "n = int(input())\n",
    "print('Số chẵn') if n % 2 ==0 else print('Số lẻ')"
   ]
  }
 ],
 "metadata": {
  "kernelspec": {
   "display_name": "Python 3 (ipykernel)",
   "language": "python",
   "name": "python3"
  },
  "language_info": {
   "codemirror_mode": {
    "name": "ipython",
    "version": 3
   },
   "file_extension": ".py",
   "mimetype": "text/x-python",
   "name": "python",
   "nbconvert_exporter": "python",
   "pygments_lexer": "ipython3",
   "version": "3.9.7"
  }
 },
 "nbformat": 4,
 "nbformat_minor": 5
}
