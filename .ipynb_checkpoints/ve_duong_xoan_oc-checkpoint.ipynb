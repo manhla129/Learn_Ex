{
 "cells": [
  {
   "cell_type": "code",
   "execution_count": 1,
   "id": "41792593",
   "metadata": {},
   "outputs": [
    {
     "name": "stdout",
     "output_type": "stream",
     "text": [
      "Nhập d = 100\n"
     ]
    }
   ],
   "source": [
    "import turtle\n",
    "tl = turtle.Turtle()\n",
    "\n",
    "d = int(input('Nhập d = '))\n",
    "i = 1\n",
    "d2 = 0\n",
    "while d2<d:\n",
    "    tl.circle(i*10,180)\n",
    "    d2 = turtle.distance(0,i*10)\n",
    "    i +=1\n",
    "turtle.done()\n"
   ]
  }
 ],
 "metadata": {
  "kernelspec": {
   "display_name": "Python 3 (ipykernel)",
   "language": "python",
   "name": "python3"
  },
  "language_info": {
   "codemirror_mode": {
    "name": "ipython",
    "version": 3
   },
   "file_extension": ".py",
   "mimetype": "text/x-python",
   "name": "python",
   "nbconvert_exporter": "python",
   "pygments_lexer": "ipython3",
   "version": "3.9.7"
  }
 },
 "nbformat": 4,
 "nbformat_minor": 5
}
