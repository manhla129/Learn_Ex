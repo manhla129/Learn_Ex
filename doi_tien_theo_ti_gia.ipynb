{
 "cells": [
  {
   "cell_type": "code",
   "execution_count": 3,
   "id": "79cd2d6c",
   "metadata": {},
   "outputs": [
    {
     "name": "stdout",
     "output_type": "stream",
     "text": [
      "Nhập USD: 10\n",
      "Nhập tỉ giá: 23000\n",
      "Quy đổi ra tiền VNĐ:  230000.0\n"
     ]
    }
   ],
   "source": [
    "usd = float(input('Nhập USD: '))\n",
    "ti_gia = float(input('Nhập tỉ giá: '))\n",
    "\n",
    "vnd = usd * ti_gia\n",
    "\n",
    "print('Quy đổi ra tiền VNĐ: ',vnd)\n"
   ]
  }
 ],
 "metadata": {
  "kernelspec": {
   "display_name": "Python 3 (ipykernel)",
   "language": "python",
   "name": "python3"
  },
  "language_info": {
   "codemirror_mode": {
    "name": "ipython",
    "version": 3
   },
   "file_extension": ".py",
   "mimetype": "text/x-python",
   "name": "python",
   "nbconvert_exporter": "python",
   "pygments_lexer": "ipython3",
   "version": "3.9.7"
  }
 },
 "nbformat": 4,
 "nbformat_minor": 5
}
