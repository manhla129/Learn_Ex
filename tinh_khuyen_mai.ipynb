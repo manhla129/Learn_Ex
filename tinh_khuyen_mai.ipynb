{
 "cells": [
  {
   "cell_type": "code",
   "execution_count": 3,
   "id": "3c274d47",
   "metadata": {},
   "outputs": [
    {
     "name": "stdout",
     "output_type": "stream",
     "text": [
      "Tổng chi: 100\n",
      "Giá sau cùng: 75\n"
     ]
    }
   ],
   "source": [
    "n = int(input(\"Tổng chi: \"))\n",
    "if n >= 150:\n",
    "     n -= 50\n",
    "elif n >= 100:\n",
    "    n -= 25\n",
    "elif n >= 75:\n",
    "    n -= 15\n",
    "else:\n",
    "    n = n\n",
    "print(f'Giá sau cùng: {n}')"
   ]
  }
 ],
 "metadata": {
  "kernelspec": {
   "display_name": "Python 3 (ipykernel)",
   "language": "python",
   "name": "python3"
  },
  "language_info": {
   "codemirror_mode": {
    "name": "ipython",
    "version": 3
   },
   "file_extension": ".py",
   "mimetype": "text/x-python",
   "name": "python",
   "nbconvert_exporter": "python",
   "pygments_lexer": "ipython3",
   "version": "3.9.7"
  }
 },
 "nbformat": 4,
 "nbformat_minor": 5
}
