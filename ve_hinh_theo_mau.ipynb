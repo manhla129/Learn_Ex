{
 "cells": [
  {
   "cell_type": "code",
   "execution_count": 1,
   "id": "09e6087a",
   "metadata": {},
   "outputs": [],
   "source": [
    "import turtle\n",
    "tl = turtle.Turtle()\n",
    "\n",
    "tl.right(45)\n",
    "r = 200\n",
    "tl.circle(r, 90)\n",
    "tl.circle(r/2,90)\n",
    "tl.circle(r, 90)\n",
    "tl.circle(r/2,90)\n",
    "turtle.done()\n"
   ]
  },
  {
   "cell_type": "code",
   "execution_count": 1,
   "id": "70851256",
   "metadata": {
    "scrolled": true
   },
   "outputs": [],
   "source": [
    "import turtle\n",
    "import random\n",
    "tl = turtle.Turtle()\n",
    "tl.speed(30)\n",
    "\n",
    "r = 200\n",
    "tl.right(45)\n",
    "for i in range(0,72):\n",
    "    tl.right(i*5)\n",
    "    colors = [\"green\",\"brown\",\"red\",\"blue\",\"pink\",\"yellow\",\"black\"]\n",
    "    theColor = random.choice(colors)\n",
    "    tl.pencolor(theColor)\n",
    "    tl.circle(r, 90)\n",
    "    tl.circle(r/2,90)\n",
    "    tl.circle(r, 90)\n",
    "    tl.circle(r/2,90)\n",
    "\n",
    "turtle.done()"
   ]
  }
 ],
 "metadata": {
  "kernelspec": {
   "display_name": "Python 3 (ipykernel)",
   "language": "python",
   "name": "python3"
  },
  "language_info": {
   "codemirror_mode": {
    "name": "ipython",
    "version": 3
   },
   "file_extension": ".py",
   "mimetype": "text/x-python",
   "name": "python",
   "nbconvert_exporter": "python",
   "pygments_lexer": "ipython3",
   "version": "3.9.7"
  }
 },
 "nbformat": 4,
 "nbformat_minor": 5
}
