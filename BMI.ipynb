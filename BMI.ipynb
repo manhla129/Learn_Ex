{
 "cells": [
  {
   "cell_type": "code",
   "execution_count": 1,
   "id": "410485e5",
   "metadata": {},
   "outputs": [
    {
     "name": "stdout",
     "output_type": "stream",
     "text": [
      "Nhập chiều cao: 1.65\n",
      "Nhập cân nặng: 57\n",
      "Bình thường\n"
     ]
    }
   ],
   "source": [
    "h = float(input('Nhập chiều cao: '))\n",
    "w = float(input('Nhập cân nặng: '))\n",
    "\n",
    "BMI = w / (h*h)\n",
    "\n",
    "if BMI >= 40:\n",
    "    print('Béo phì cấp độ III')\n",
    "elif BMI >=35:\n",
    "    print('Béo phì cấp độ II')\n",
    "elif BMI >=30:\n",
    "    print('Béo phì cấp độ I')\n",
    "elif BMI >=25:\n",
    "    print('Thừa cân')\n",
    "elif BMI >=18.5:\n",
    "    print('Bình thường')\n",
    "elif BMI >=17:\n",
    "    print('Gầy cấp độ I')\n",
    "elif BMI >=16:\n",
    "    print('Gầy cấp độ II')\n",
    "else:\n",
    "    print('Gầy cấp độ III')"
   ]
  }
 ],
 "metadata": {
  "kernelspec": {
   "display_name": "Python 3 (ipykernel)",
   "language": "python",
   "name": "python3"
  },
  "language_info": {
   "codemirror_mode": {
    "name": "ipython",
    "version": 3
   },
   "file_extension": ".py",
   "mimetype": "text/x-python",
   "name": "python",
   "nbconvert_exporter": "python",
   "pygments_lexer": "ipython3",
   "version": "3.9.7"
  }
 },
 "nbformat": 4,
 "nbformat_minor": 5
}
